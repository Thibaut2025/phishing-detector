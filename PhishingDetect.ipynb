{
 "cells": [
  {
   "cell_type": "code",
   "execution_count": 1,
   "metadata": {},
   "outputs": [],
   "source": [
    "import time\n",
    "import pandas as pd\n",
    "import numpy as np\n",
    "import seaborn as sns\n",
    "import joblib\n",
    "import traceback\n",
    "import matplotlib.pyplot as plt\n",
    "from sklearn.svm import SVC\n",
    "from selenium.webdriver.support.ui import WebDriverWait\n",
    "from selenium.webdriver.support import expected_conditions as EC\n",
    "from selenium.webdriver.common.by import By\n",
    "from sklearn.model_selection import train_test_split\n",
    "from sklearn.ensemble import RandomForestClassifier\n",
    "from sklearn.preprocessing import MinMaxScaler\n",
    "from xgboost import XGBClassifier\n",
    "from sklearn.neighbors import KNeighborsClassifier\n",
    "from sklearn.ensemble import RandomForestClassifier\n",
    "from sklearn.model_selection import GridSearchCV, StratifiedKFold\n",
    "from sklearn.model_selection import learning_curve\n",
    "from sklearn.metrics import accuracy_score, recall_score, precision_score, confusion_matrix, classification_report"
   ]
  },
  {
   "cell_type": "code",
   "execution_count": 2,
   "metadata": {},
   "outputs": [],
   "source": [
    "from selenium import webdriver\n",
    "from selenium.webdriver.chrome.service import Service\n",
    "from selenium.webdriver.chrome.options import Options\n",
    "from webdriver_manager.chrome import ChromeDriverManager\n",
    "from urllib.parse import urlparse\n",
    "import re\n",
    "from bs4 import BeautifulSoup\n",
    "import requests"
   ]
  },
  {
   "cell_type": "code",
   "execution_count": 3,
   "metadata": {
    "colab": {
     "base_uri": "https://localhost:8080/",
     "height": 444
    },
    "collapsed": true,
    "executionInfo": {
     "elapsed": 423,
     "status": "ok",
     "timestamp": 1748593142395,
     "user": {
      "displayName": "Ismaël Thibaut",
      "userId": "05284986738539543376"
     },
     "user_tz": -60
    },
    "id": "QUyUy4QH36uS",
    "outputId": "1f032245-2fde-447a-9789-ae0610c5c7f2"
   },
   "outputs": [
    {
     "data": {
      "text/html": [
       "<div>\n",
       "<style scoped>\n",
       "    .dataframe tbody tr th:only-of-type {\n",
       "        vertical-align: middle;\n",
       "    }\n",
       "\n",
       "    .dataframe tbody tr th {\n",
       "        vertical-align: top;\n",
       "    }\n",
       "\n",
       "    .dataframe thead th {\n",
       "        text-align: right;\n",
       "    }\n",
       "</style>\n",
       "<table border=\"1\" class=\"dataframe\">\n",
       "  <thead>\n",
       "    <tr style=\"text-align: right;\">\n",
       "      <th></th>\n",
       "      <th>id</th>\n",
       "      <th>NumDots</th>\n",
       "      <th>SubdomainLevel</th>\n",
       "      <th>PathLevel</th>\n",
       "      <th>UrlLength</th>\n",
       "      <th>NumDash</th>\n",
       "      <th>NumDashInHostname</th>\n",
       "      <th>AtSymbol</th>\n",
       "      <th>TildeSymbol</th>\n",
       "      <th>NumUnderscore</th>\n",
       "      <th>...</th>\n",
       "      <th>IframeOrFrame</th>\n",
       "      <th>MissingTitle</th>\n",
       "      <th>ImagesOnlyInForm</th>\n",
       "      <th>SubdomainLevelRT</th>\n",
       "      <th>UrlLengthRT</th>\n",
       "      <th>PctExtResourceUrlsRT</th>\n",
       "      <th>AbnormalExtFormActionR</th>\n",
       "      <th>ExtMetaScriptLinkRT</th>\n",
       "      <th>PctExtNullSelfRedirectHyperlinksRT</th>\n",
       "      <th>CLASS_LABEL</th>\n",
       "    </tr>\n",
       "  </thead>\n",
       "  <tbody>\n",
       "    <tr>\n",
       "      <th>0</th>\n",
       "      <td>1</td>\n",
       "      <td>3</td>\n",
       "      <td>1</td>\n",
       "      <td>5</td>\n",
       "      <td>72</td>\n",
       "      <td>0</td>\n",
       "      <td>0</td>\n",
       "      <td>0</td>\n",
       "      <td>0</td>\n",
       "      <td>0</td>\n",
       "      <td>...</td>\n",
       "      <td>0</td>\n",
       "      <td>0</td>\n",
       "      <td>1</td>\n",
       "      <td>1</td>\n",
       "      <td>0</td>\n",
       "      <td>1</td>\n",
       "      <td>1</td>\n",
       "      <td>-1</td>\n",
       "      <td>1</td>\n",
       "      <td>1</td>\n",
       "    </tr>\n",
       "    <tr>\n",
       "      <th>1</th>\n",
       "      <td>2</td>\n",
       "      <td>3</td>\n",
       "      <td>1</td>\n",
       "      <td>3</td>\n",
       "      <td>144</td>\n",
       "      <td>0</td>\n",
       "      <td>0</td>\n",
       "      <td>0</td>\n",
       "      <td>0</td>\n",
       "      <td>2</td>\n",
       "      <td>...</td>\n",
       "      <td>0</td>\n",
       "      <td>0</td>\n",
       "      <td>0</td>\n",
       "      <td>1</td>\n",
       "      <td>-1</td>\n",
       "      <td>1</td>\n",
       "      <td>1</td>\n",
       "      <td>1</td>\n",
       "      <td>1</td>\n",
       "      <td>1</td>\n",
       "    </tr>\n",
       "    <tr>\n",
       "      <th>2</th>\n",
       "      <td>3</td>\n",
       "      <td>3</td>\n",
       "      <td>1</td>\n",
       "      <td>2</td>\n",
       "      <td>58</td>\n",
       "      <td>0</td>\n",
       "      <td>0</td>\n",
       "      <td>0</td>\n",
       "      <td>0</td>\n",
       "      <td>0</td>\n",
       "      <td>...</td>\n",
       "      <td>0</td>\n",
       "      <td>0</td>\n",
       "      <td>0</td>\n",
       "      <td>1</td>\n",
       "      <td>0</td>\n",
       "      <td>-1</td>\n",
       "      <td>1</td>\n",
       "      <td>-1</td>\n",
       "      <td>0</td>\n",
       "      <td>1</td>\n",
       "    </tr>\n",
       "    <tr>\n",
       "      <th>3</th>\n",
       "      <td>4</td>\n",
       "      <td>3</td>\n",
       "      <td>1</td>\n",
       "      <td>6</td>\n",
       "      <td>79</td>\n",
       "      <td>1</td>\n",
       "      <td>0</td>\n",
       "      <td>0</td>\n",
       "      <td>0</td>\n",
       "      <td>0</td>\n",
       "      <td>...</td>\n",
       "      <td>0</td>\n",
       "      <td>0</td>\n",
       "      <td>0</td>\n",
       "      <td>1</td>\n",
       "      <td>-1</td>\n",
       "      <td>1</td>\n",
       "      <td>1</td>\n",
       "      <td>1</td>\n",
       "      <td>-1</td>\n",
       "      <td>1</td>\n",
       "    </tr>\n",
       "    <tr>\n",
       "      <th>4</th>\n",
       "      <td>5</td>\n",
       "      <td>3</td>\n",
       "      <td>0</td>\n",
       "      <td>4</td>\n",
       "      <td>46</td>\n",
       "      <td>0</td>\n",
       "      <td>0</td>\n",
       "      <td>0</td>\n",
       "      <td>0</td>\n",
       "      <td>0</td>\n",
       "      <td>...</td>\n",
       "      <td>1</td>\n",
       "      <td>0</td>\n",
       "      <td>0</td>\n",
       "      <td>1</td>\n",
       "      <td>1</td>\n",
       "      <td>-1</td>\n",
       "      <td>0</td>\n",
       "      <td>-1</td>\n",
       "      <td>-1</td>\n",
       "      <td>1</td>\n",
       "    </tr>\n",
       "  </tbody>\n",
       "</table>\n",
       "<p>5 rows × 50 columns</p>\n",
       "</div>"
      ],
      "text/plain": [
       "   id  NumDots  SubdomainLevel  PathLevel  UrlLength  NumDash  \\\n",
       "0   1        3               1          5         72        0   \n",
       "1   2        3               1          3        144        0   \n",
       "2   3        3               1          2         58        0   \n",
       "3   4        3               1          6         79        1   \n",
       "4   5        3               0          4         46        0   \n",
       "\n",
       "   NumDashInHostname  AtSymbol  TildeSymbol  NumUnderscore  ...  \\\n",
       "0                  0         0            0              0  ...   \n",
       "1                  0         0            0              2  ...   \n",
       "2                  0         0            0              0  ...   \n",
       "3                  0         0            0              0  ...   \n",
       "4                  0         0            0              0  ...   \n",
       "\n",
       "   IframeOrFrame  MissingTitle  ImagesOnlyInForm  SubdomainLevelRT  \\\n",
       "0              0             0                 1                 1   \n",
       "1              0             0                 0                 1   \n",
       "2              0             0                 0                 1   \n",
       "3              0             0                 0                 1   \n",
       "4              1             0                 0                 1   \n",
       "\n",
       "   UrlLengthRT  PctExtResourceUrlsRT  AbnormalExtFormActionR  \\\n",
       "0            0                     1                       1   \n",
       "1           -1                     1                       1   \n",
       "2            0                    -1                       1   \n",
       "3           -1                     1                       1   \n",
       "4            1                    -1                       0   \n",
       "\n",
       "   ExtMetaScriptLinkRT  PctExtNullSelfRedirectHyperlinksRT  CLASS_LABEL  \n",
       "0                   -1                                   1            1  \n",
       "1                    1                                   1            1  \n",
       "2                   -1                                   0            1  \n",
       "3                    1                                  -1            1  \n",
       "4                   -1                                  -1            1  \n",
       "\n",
       "[5 rows x 50 columns]"
      ]
     },
     "execution_count": 3,
     "metadata": {},
     "output_type": "execute_result"
    }
   ],
   "source": [
    "df = pd.read_csv('Phishing_Legitimate_full.csv')\n",
    "df.head()"
   ]
  },
  {
   "cell_type": "code",
   "execution_count": 4,
   "metadata": {
    "colab": {
     "base_uri": "https://localhost:8080/"
    },
    "collapsed": true,
    "executionInfo": {
     "elapsed": 91,
     "status": "ok",
     "timestamp": 1748552999238,
     "user": {
      "displayName": "Ismaël Thibaut",
      "userId": "05284986738539543376"
     },
     "user_tz": -60
    },
    "id": "Fe_OVUC538Pt",
    "outputId": "a068f27f-6e82-494b-804a-0d7ab8559cc4"
   },
   "outputs": [],
   "source": [
    "missing_percentage = df.isna().sum()/len(df)*100"
   ]
  },
  {
   "cell_type": "code",
   "execution_count": 5,
   "metadata": {
    "id": "one-aTAJ38Ma"
   },
   "outputs": [],
   "source": [
    "df = df.drop('id', axis=1)"
   ]
  },
  {
   "cell_type": "code",
   "execution_count": 6,
   "metadata": {
    "colab": {
     "base_uri": "https://localhost:8080/",
     "height": 1000
    },
    "collapsed": true,
    "executionInfo": {
     "elapsed": 8672,
     "status": "ok",
     "timestamp": 1748553018495,
     "user": {
      "displayName": "Ismaël Thibaut",
      "userId": "05284986738539543376"
     },
     "user_tz": -60
    },
    "id": "D5Nyq6WZ38Jj",
    "outputId": "5246aac6-f754-40c9-a3f7-f2696779f023"
   },
   "outputs": [],
   "source": [
    "# for column in df.columns:\n",
    "#     sns.boxplot(data=df, x=column)\n",
    "#     plt.show()"
   ]
  },
  {
   "cell_type": "code",
   "execution_count": 7,
   "metadata": {
    "id": "wLUO6_Em38HC"
   },
   "outputs": [],
   "source": [
    "x = df[df.columns[:-1]]\n",
    "y = df[df.columns[-1]]\n",
    "\n",
    "x_train, x_test, y_train, y_test = train_test_split(x, y, test_size = 0.2)"
   ]
  },
  {
   "cell_type": "code",
   "execution_count": 8,
   "metadata": {
    "colab": {
     "base_uri": "https://localhost:8080/"
    },
    "collapsed": true,
    "executionInfo": {
     "elapsed": 267,
     "status": "ok",
     "timestamp": 1748593160836,
     "user": {
      "displayName": "Ismaël Thibaut",
      "userId": "05284986738539543376"
     },
     "user_tz": -60
    },
    "id": "KaewfXMd4VSN",
    "outputId": "20124a57-04a3-4d42-941d-8b47aba82576"
   },
   "outputs": [],
   "source": [
    "def correlation(data_df, threshold):\n",
    "    corr_col = set()\n",
    "    corr_matrix = data_df.corr()\n",
    "    # print(corr_matrix)\n",
    "\n",
    "    for i in range(len(corr_matrix.columns)):\n",
    "        for j in range(i + 1, len(corr_matrix.columns)):\n",
    "            if(np.abs(corr_matrix.iloc[(i, j)]) > threshold):\n",
    "                corr_col.add(corr_matrix.columns[j])\n",
    "\n",
    "    return corr_col\n",
    "\n",
    "corr_col = correlation(x_train, threshold=0.9)\n",
    "x_train = x_train.drop(columns=corr_col, axis=1)\n",
    "x_test = x_test.drop(columns=corr_col, axis=1)"
   ]
  },
  {
   "cell_type": "code",
   "execution_count": 9,
   "metadata": {
    "id": "NSJasjFi4VMN"
   },
   "outputs": [],
   "source": [
    "y_train = np.reshape(y_train, (-1, 1))\n",
    "y_test = np.reshape(y_test, (-1, 1))"
   ]
  },
  {
   "cell_type": "code",
   "execution_count": 10,
   "metadata": {
    "id": "hGAjHulx4Oyp"
   },
   "outputs": [],
   "source": [
    "scaler_x_minmax = MinMaxScaler()"
   ]
  },
  {
   "cell_type": "code",
   "execution_count": 11,
   "metadata": {
    "id": "Zs__6Bn64qH_"
   },
   "outputs": [],
   "source": [
    "def scaling(x1, scaler_x):\n",
    "    x1 = scaler_x.fit_transform(x1)\n",
    "    return x1, scaler_x"
   ]
  },
  {
   "cell_type": "code",
   "execution_count": 12,
   "metadata": {
    "id": "yJZrX8cH4qE0"
   },
   "outputs": [],
   "source": [
    "x_train1, scaler_x_minmax = scaling(x_train, scaler_x_minmax)"
   ]
  },
  {
   "cell_type": "code",
   "execution_count": 13,
   "metadata": {
    "id": "WsnhU9rKEFsT"
   },
   "outputs": [],
   "source": [
    "x_test1, scaler_x_minmax = scaling(x_test, scaler_x_minmax)"
   ]
  },
  {
   "cell_type": "markdown",
   "metadata": {
    "id": "E7PitLVX41vj"
   },
   "source": [
    "# **SVM**"
   ]
  },
  {
   "cell_type": "code",
   "execution_count": 14,
   "metadata": {
    "colab": {
     "base_uri": "https://localhost:8080/"
    },
    "collapsed": true,
    "executionInfo": {
     "elapsed": 1373,
     "status": "ok",
     "timestamp": 1748511106822,
     "user": {
      "displayName": "Ismaël Thibaut",
      "userId": "05284986738539543376"
     },
     "user_tz": -60
    },
    "id": "CxvPrQ9643Gz",
    "outputId": "f25be839-df25-41de-956f-a78a88bd3a77"
   },
   "outputs": [],
   "source": [
    "# start_time = time.time()\n",
    "\n",
    "# model = SVC(probability=False)\n",
    "# model.fit(x_train1, y_train)\n",
    "\n",
    "# end_time = time.time()\n",
    "# training_time = end_time - start_time\n",
    "\n",
    "# y_pred = model.predict(x_test1)\n",
    "\n",
    "# print(f'Training Time: {training_time:.4f} seconds')\n",
    "# print(f'Accuracy: {accuracy_score(y_test, y_pred)}')\n",
    "# print(f'Recall: {recall_score(y_test, y_pred)}')\n",
    "# print(f'Precision: {precision_score(y_test, y_pred)}')\n",
    "# print(confusion_matrix(y_test, y_pred))\n",
    "# print(classification_report(y_test, y_pred))"
   ]
  },
  {
   "cell_type": "markdown",
   "metadata": {
    "id": "8aqTJMGV48eH"
   },
   "source": [
    "# **Random Forest**"
   ]
  },
  {
   "cell_type": "code",
   "execution_count": 15,
   "metadata": {
    "colab": {
     "base_uri": "https://localhost:8080/"
    },
    "collapsed": true,
    "executionInfo": {
     "elapsed": 1386,
     "status": "ok",
     "timestamp": 1748511117919,
     "user": {
      "displayName": "Ismaël Thibaut",
      "userId": "05284986738539543376"
     },
     "user_tz": -60
    },
    "id": "br6_SjOv5AoW",
    "outputId": "43c1d2b3-4b63-4e9d-9943-81b3c329d115"
   },
   "outputs": [],
   "source": [
    "# start_time = time.time()\n",
    "\n",
    "# model = RandomForestClassifier()\n",
    "# model.fit(x_train1, y_train)\n",
    "\n",
    "# end_time = time.time()\n",
    "# training_time = end_time - start_time\n",
    "\n",
    "# y_pred = model.predict(x_test1)\n",
    "# y_pred_proba = model.predict_proba(x_test1)[:, 1]\n",
    "\n",
    "# print(f'Training Time: {training_time:.4f} seconds')\n",
    "# print(f'Accuracy: {accuracy_score(y_test, y_pred)}')\n",
    "# print(f'Recall: {recall_score(y_test, y_pred)}')\n",
    "# print(f'Precision: {precision_score(y_test, y_pred)}')\n",
    "# print(confusion_matrix(y_test, y_pred))\n",
    "# print(classification_report(y_test, y_pred))"
   ]
  },
  {
   "cell_type": "markdown",
   "metadata": {
    "id": "AIrXBn9f6KnK"
   },
   "source": [
    "# **Grid SearchCV**"
   ]
  },
  {
   "cell_type": "code",
   "execution_count": 16,
   "metadata": {
    "id": "EJLwailA6Rv2"
   },
   "outputs": [],
   "source": [
    "param_grids = {\n",
    "    \"Random Forest\": {\n",
    "        'n_estimators': [50, 100, 200],\n",
    "        'max_depth': [None, 10, 20],\n",
    "        'min_samples_split': [2, 5, 10],\n",
    "        'class_weight': ['balanced', {0:1, 1:20}],\n",
    "    },\n",
    "    \"XGBoost\": {\n",
    "        \"n_estimators\": [50, 100, 200],\n",
    "        \"learning_rate\": [0.01, 0.1, 0.2],\n",
    "        \"max_depth\": [3, 6, 9],\n",
    "        \"subsample\": [0.8, 1.0],\n",
    "        \"colsample_bytree\": [0.8, 1.0],\n",
    "    },\n",
    "    \"KNeighborsClassifier\" : {\n",
    "        \"n_neighbors\": np.arange(1,20) ,\n",
    "        \"weights\": ['uniform', 'distance'],\n",
    "        \"metric\": ['euclidean', 'manhattan', 'minkowski'],\n",
    "        \"p\": [1, 2]\n",
    "    }\n",
    "}"
   ]
  },
  {
   "cell_type": "code",
   "execution_count": 17,
   "metadata": {
    "id": "eAzH1B3t6ae2"
   },
   "outputs": [],
   "source": [
    "models = {\n",
    "    \"KNeighborsClassifier\": KNeighborsClassifier(),\n",
    "    \"Random Forest\": RandomForestClassifier(random_state=42),\n",
    "    \"XGBoost\": XGBClassifier(random_state=42)\n",
    "}"
   ]
  },
  {
   "cell_type": "code",
   "execution_count": 18,
   "metadata": {
    "colab": {
     "base_uri": "https://localhost:8080/"
    },
    "collapsed": true,
    "executionInfo": {
     "elapsed": 681549,
     "status": "ok",
     "timestamp": 1748553763878,
     "user": {
      "displayName": "Ismaël Thibaut",
      "userId": "05284986738539543376"
     },
     "user_tz": -60
    },
    "id": "khEaG2RK6twU",
    "outputId": "479cbcb0-8487-4769-c7c0-7932cac07626"
   },
   "outputs": [],
   "source": [
    "# # GridSearchCV pour chaque modèle\n",
    "# best_models = {}\n",
    "# for name, model in models.items():\n",
    "#     skf = StratifiedKFold(n_splits=5, shuffle=True, random_state=42)\n",
    "#     grid = GridSearchCV(model, param_grids[name], cv=skf, n_jobs=-1)\n",
    "#     grid.fit(x_train1, y_train)\n",
    "#     best_models[name] = grid.best_estimator_\n",
    "\n",
    "#     print(f\" Meilleurs paramètres pour {name} : {grid.best_params_}\")"
   ]
  },
  {
   "cell_type": "code",
   "execution_count": 19,
   "metadata": {
    "id": "8olOwJi67Agg"
   },
   "outputs": [],
   "source": [
    "def evaluate(model, name_model):\n",
    "    model.fit(x_train1, y_train)\n",
    "    y_pred = model.predict(x_test1)\n",
    "    print(confusion_matrix(y_test, y_pred))\n",
    "    print(classification_report(y_test, y_pred))\n",
    "    # cv = ShuffleSplit(5, test_size=0.2)\n",
    "    cv = StratifiedKFold(5)\n",
    "    N, train_score, val_score = learning_curve(model, x_train1, y_train, cv=cv, scoring='f1',\n",
    "                                               train_sizes=np.linspace(0.1, 1, 10))\n",
    "    plt.figure(figsize=(12, 8))\n",
    "    plt.plot(N, train_score.mean(axis=1), label='train_score')\n",
    "    plt.plot(N, val_score.mean(axis=1), label='val_score')\n",
    "    plt.title(name_model)\n",
    "    plt.xlabel('Training Size')\n",
    "    plt.ylabel('F1 Score')\n",
    "    plt.legend()\n",
    "    plt.show()"
   ]
  },
  {
   "cell_type": "markdown",
   "metadata": {
    "id": "m7R-yGEP7I3C"
   },
   "source": [
    "# **Meilleur Model**"
   ]
  },
  {
   "cell_type": "code",
   "execution_count": 20,
   "metadata": {
    "colab": {
     "base_uri": "https://localhost:8080/",
     "height": 1000
    },
    "collapsed": true,
    "executionInfo": {
     "elapsed": 146637,
     "status": "ok",
     "timestamp": 1748554162735,
     "user": {
      "displayName": "Ismaël Thibaut",
      "userId": "05284986738539543376"
     },
     "user_tz": -60
    },
    "id": "GLu0sIP6_40i",
    "outputId": "ad3c263a-f1ce-43ee-96b0-a6bcab4de049"
   },
   "outputs": [],
   "source": [
    "# for name, model in best_models.items():\n",
    "#     print(name)\n",
    "#     evaluate(model, name)"
   ]
  },
  {
   "cell_type": "code",
   "execution_count": 21,
   "metadata": {
    "colab": {
     "base_uri": "https://localhost:8080/"
    },
    "executionInfo": {
     "elapsed": 220,
     "status": "ok",
     "timestamp": 1748556210409,
     "user": {
      "displayName": "Ismaël Thibaut",
      "userId": "05284986738539543376"
     },
     "user_tz": -60
    },
    "id": "OyUnZel8A5vM",
    "outputId": "4fa2809c-33df-4570-a62a-1047e2c9fe65"
   },
   "outputs": [],
   "source": [
    "# joblib.dump(mmodel, 'C:\\\\Users\\\\Thibaut\\\\Documents\\\\MLProject\\\\url_pishing_classification\\\\xgboost_model.pkl')\n",
    "# joblib.dump(scaler_x_minmax, 'C:\\\\Users\\\\Thibaut\\\\Documents\\\\MLProject\\\\url_pishing_classification\\\\minmax_scaler.pkl')"
   ]
  },
  {
   "cell_type": "code",
   "execution_count": 22,
   "metadata": {},
   "outputs": [],
   "source": [
    "mmodel = joblib.load('xgboost_model.pkl')\n",
    "scaler_x_minmax = joblib.load('minmax_scaler.pkl')"
   ]
  },
  {
   "cell_type": "code",
   "execution_count": 23,
   "metadata": {
    "colab": {
     "base_uri": "https://localhost:8080/",
     "height": 909
    },
    "collapsed": true,
    "executionInfo": {
     "elapsed": 17282,
     "status": "ok",
     "timestamp": 1748556244668,
     "user": {
      "displayName": "Ismaël Thibaut",
      "userId": "05284986738539543376"
     },
     "user_tz": -60
    },
    "id": "RzXkyFZ57RNg",
    "outputId": "49761955-3ee9-48eb-fd70-c75cbca670ce"
   },
   "outputs": [],
   "source": [
    "# evaluate(mmodel, 'XGBoost')"
   ]
  },
  {
   "cell_type": "code",
   "execution_count": 24,
   "metadata": {
    "id": "Nk9aMQxBE3KR"
   },
   "outputs": [],
   "source": [
    "feature_names = [\n",
    "    'NumDots', 'SubdomainLevel', 'PathLevel', 'UrlLength', 'NumDash',\n",
    "    'NumDashInHostname', 'AtSymbol', 'TildeSymbol', 'NumUnderscore',\n",
    "    'NumPercent', 'NumQueryComponents', 'NumAmpersand', 'NumHash',\n",
    "    'NumNumericChars', 'NoHttps', 'RandomString', 'IpAddress',\n",
    "    'DomainInSubdomains', 'DomainInPaths', 'HttpsInHostname',\n",
    "    'HostnameLength', 'PathLength', 'QueryLength', 'DoubleSlashInPath',\n",
    "    'NumSensitiveWords', 'EmbeddedBrandName', 'PctExtHyperlinks',\n",
    "    'PctExtResourceUrls', 'ExtFavicon', 'InsecureForms',\n",
    "    'RelativeFormAction', 'ExtFormAction', 'AbnormalFormAction',\n",
    "    'PctNullSelfRedirectHyperlinks', 'FrequentDomainNameMismatch',\n",
    "    'FakeLinkInStatusBar', 'RightClickDisabled', 'PopUpWindow',\n",
    "    'SubmitInfoToEmail', 'IframeOrFrame', 'MissingTitle',\n",
    "    'ImagesOnlyInForm', 'SubdomainLevelRT', 'UrlLengthRT',\n",
    "    'PctExtResourceUrlsRT', 'AbnormalExtFormActionR',\n",
    "    'ExtMetaScriptLinkRT', 'PctExtNullSelfRedirectHyperlinksRT'\n",
    "]"
   ]
  },
  {
   "cell_type": "code",
   "execution_count": 25,
   "metadata": {
    "colab": {
     "base_uri": "https://localhost:8080/",
     "height": 719
    },
    "executionInfo": {
     "elapsed": 1486,
     "status": "ok",
     "timestamp": 1748557076254,
     "user": {
      "displayName": "Ismaël Thibaut",
      "userId": "05284986738539543376"
     },
     "user_tz": -60
    },
    "id": "V4-4nkHq2yjk",
    "outputId": "f854118c-6a8e-496e-f440-0db8092799e0"
   },
   "outputs": [],
   "source": [
    "# # Importance des features\n",
    "# plt.figure(figsize=(12, 8))\n",
    "# sns.barplot(x=mmodel.feature_importances_, y=feature_names)\n",
    "# plt.title('Importance des variables dans la prédiction des pannes')\n",
    "# plt.xlabel('Importance')\n",
    "# plt.ylabel('Variable')\n",
    "# plt.savefig('importance_variables.png')\n",
    "# plt.show()"
   ]
  },
  {
   "cell_type": "markdown",
   "metadata": {
    "id": "c59FKy6xvEXB"
   },
   "source": [
    "# **Extraction des Caracteristiques**"
   ]
  },
  {
   "cell_type": "code",
   "execution_count": 26,
   "metadata": {
    "id": "czFpXOCkylj8"
   },
   "outputs": [],
   "source": [
    "def extract_features(url):\n",
    "    features = {}\n",
    "\n",
    "    # Analyser l'URL\n",
    "    parsed_url = urlparse(url)\n",
    "    hostname = parsed_url.hostname or ''\n",
    "    path = parsed_url.path or ''\n",
    "    query = parsed_url.query or ''\n",
    "\n",
    "    # Fonction de secours pour récupérer le HTML statique\n",
    "    def get_html_fallback(url):\n",
    "        try:\n",
    "            headers = {'User-Agent': 'Mozilla/5.0 (Windows NT 10.0; Win64; x64) AppleWebKit/537.36 (KHTML, like Gecko) Chrome/91.0.4472.124 Safari/537.36'}\n",
    "            response = requests.get(url, timeout=10, headers=headers)\n",
    "            return response.text\n",
    "        except Exception as e:\n",
    "            print(f\"Erreur dans get_html_fallback pour {url}: {str(e)}\")\n",
    "            return \"\"\n",
    "\n",
    "\n",
    "    # Configurer Selenium pour Colab\n",
    "    chrome_options = Options()\n",
    "    chrome_options.add_argument('--headless')\n",
    "    chrome_options.add_argument('--no-sandbox')\n",
    "    chrome_options.add_argument('--disable-dev-shm-usage')\n",
    "    chrome_options.add_argument('--disable-gpu')\n",
    "    chrome_options.add_argument('--remote-debugging-port=9222')\n",
    "    chrome_options.add_argument('--disable-extensions')\n",
    "    chrome_options.add_argument('--disable-setuid-sandbox')\n",
    "\n",
    "    driver = None\n",
    "    \n",
    "    try:\n",
    "        # Initialiser ChromeDriver\n",
    "        driver = webdriver.Chrome(service=Service(ChromeDriverManager().install()), options=chrome_options)\n",
    "        driver.set_page_load_timeout(60)\n",
    "        driver.get(url)\n",
    "        WebDriverWait(driver, 20).until(EC.presence_of_element_located((By.TAG_NAME, \"form\")))\n",
    "        html_content = driver.page_source\n",
    "        soup = BeautifulSoup(html_content, 'html.parser')\n",
    "    \n",
    "        if not html_content.strip():  # Vérifier si le contenu HTML est vide\n",
    "            print(f\"Contenu HTML vide récupéré pour {url} via Selenium, passage au fallback.\")\n",
    "            html_content = get_html_fallback(url)\n",
    "            soup = BeautifulSoup(html_content, 'html.parser') if html_content else BeautifulSoup(\"\", 'html.parser')\n",
    "    except Exception as e:\n",
    "        print(f\"Erreur Selenium pour {url}: {e}\")\n",
    "        # Utiliser la solution de secours avec requests\n",
    "        html_content = get_html_fallback(url)\n",
    "        soup = BeautifulSoup(html_content, 'html.parser') if html_content else BeautifulSoup(\"\", 'html.parser')\n",
    "    finally:\n",
    "        if driver is not None:\n",
    "            driver.quit()\n",
    "\n",
    "    try:\n",
    "        # Extraire les caractéristiques\n",
    "        features['NumDots'] = url.count('.')\n",
    "        features['SubdomainLevel'] = len(hostname.split('.')) - 2 if hostname else 0\n",
    "        features['PathLevel'] = len([p for p in path.split('/') if p])\n",
    "        features['UrlLength'] = len(url)\n",
    "        features['NumDash'] = url.count('-')\n",
    "        features['NumDashInHostname'] = hostname.count('-')\n",
    "        features['AtSymbol'] = 1 if '@' in url else 0\n",
    "        features['TildeSymbol'] = 1 if '~' in url else 0\n",
    "        features['NumUnderscore'] = url.count('_')\n",
    "        features['NumPercent'] = url.count('%')\n",
    "        features['NumQueryComponents'] = len(query.split('&')) if query else 0\n",
    "        features['NumAmpersand'] = url.count('&')\n",
    "        features['NumHash'] = 1 if '#' in url else 0\n",
    "        features['NumNumericChars'] = sum(c.isdigit() for c in url)\n",
    "        features['NoHttps'] = 0 if url.startswith('https') else 1\n",
    "        features['RandomString'] = 1 if re.search(r'[a-zA-Z0-9]{20,}', url) else 0\n",
    "        features['IpAddress'] = 1 if re.match(r'^(\\d{1,3}\\.){3}\\d{1,3}$', hostname) and all(0 <= int(x) <= 255 for x in hostname.split('.')) else 0 # Vérification IP\n",
    "        # features['IpAddress'] = 1 if re.match(r'^\\d+\\.\\d+\\.\\d+\\.\\d+$', hostname) else 0\n",
    "        features['DomainInSubdomains'] = 1 if any(brand in hostname for brand in ['paypal', 'amazon', 'bank']) else 0\n",
    "        features['DomainInPaths'] = 1 if any(brand in path for brand in ['paypal', 'amazon', 'bank']) else 0\n",
    "        features['HttpsInHostname'] = 1 if 'https' in hostname.lower() else 0\n",
    "        features['HostnameLength'] = len(hostname)\n",
    "        features['PathLength'] = len(path)\n",
    "        features['QueryLength'] = len(query)\n",
    "        features['DoubleSlashInPath'] = 1 if '//' in path else 0\n",
    "        features['NumSensitiveWords'] = sum(1 for word in ['login', 'password', 'bank'] if word in url.lower())\n",
    "        features['EmbeddedBrandName'] = 1 if any(brand in url.lower() for brand in ['paypal', 'amazon', 'bank']) else 0\n",
    "\n",
    "        # Caractéristiques basées sur la page\n",
    "        links = soup.find_all('a', href=True)\n",
    "        total_links = len(links)\n",
    "        ext_links = len([l for l in links if urlparse(l['href']).hostname and urlparse(l['href']).hostname != hostname])\n",
    "        features['PctExtHyperlinks'] = ext_links / total_links if total_links > 0 else 0\n",
    "\n",
    "        resources = soup.find_all(['img', 'script', 'link'], src=True)\n",
    "        total_resources = len(resources)\n",
    "        ext_resources = len([r for r in resources if urlparse(r['src']).hostname and urlparse(r['src']).hostname != hostname])\n",
    "        features['PctExtResourceUrls'] = ext_resources / total_resources if total_resources > 0 else 0\n",
    "\n",
    "        favicon = soup.find('link', rel='icon') or soup.find('link', rel='shortcut icon')\n",
    "        if favicon:\n",
    "            print(f\"Favicon URL pour {url}: {favicon['href']}\")\n",
    "        features['ExtFavicon'] = 1 if favicon and urlparse(favicon['href']).hostname and urlparse(favicon['href']).hostname != hostname else 0\n",
    "\n",
    "        forms = soup.find_all('form')\n",
    "        features['InsecureForms'] = 1 if any(f.get('action') and not (f.get('action').startswith('https') or not urlparse(f.get('action')).scheme) for f in forms) else 0\n",
    "        # features['InsecureForms'] = 1 if any(f.get('action') and not f.get('action').startswith('https') for f in forms) else 0\n",
    "        features['RelativeFormAction'] = 1 if any(f.get('action') and not urlparse(f.get('action')).hostname for f in forms) else 0\n",
    "        features['ExtFormAction'] = 1 if any(f.get('action') and urlparse(f.get('action')).hostname and urlparse(f.get('action')).hostname != hostname for f in forms) else 0\n",
    "        features['AbnormalFormAction'] = 1 if any(f.get('action') in [None, '', 'javascript:void(0)'] for f in forms) else 0\n",
    "\n",
    "        null_links = len([l for l in links if l['href'] in ['', '#', 'javascript:void(0)']])\n",
    "        features['PctNullSelfRedirectHyperlinks'] = null_links / total_links if total_links > 0 else 0\n",
    "\n",
    "        features['FrequentDomainNameMismatch'] = 1 if total_links > 0 and ext_links / total_links > 0.5 else 0\n",
    "        features['FakeLinkInStatusBar'] = 1 if any('onmouseover' in str(l).lower() for l in links) else 0\n",
    "        features['RightClickDisabled'] = 1 if 'contextmenu' in html_content.lower() else 0\n",
    "        features['PopUpWindow'] = 1 if 'window.open' in html_content.lower() else 0\n",
    "        features['SubmitInfoToEmail'] = 1 if any(f.get('action', '').startswith('mailto:') for f in forms) else 0\n",
    "        features['IframeOrFrame'] = 1 if soup.find_all(['iframe', 'frame']) else 0\n",
    "        features['MissingTitle'] = 1 if not soup.title else 0\n",
    "        features['ImagesOnlyInForm'] = 1 if any(len(f.find_all('img')) > 0 and len(f.find_all(['input', 'textarea'])) == 0 for f in forms) else 0\n",
    "\n",
    "        features['SubdomainLevelRT'] = 1 if features['SubdomainLevel'] > 2 else -1 if features['SubdomainLevel'] == 0 else 0\n",
    "        features['UrlLengthRT'] = 1 if features['UrlLength'] > 100 else -1 if features['UrlLength'] < 50 else 0\n",
    "        features['PctExtResourceUrlsRT'] = 1 if features['PctExtResourceUrls'] > 0.5 else -1 if features['PctExtResourceUrls'] < 0.1 else 0\n",
    "        features['AbnormalExtFormActionR'] = features['ExtFormAction']\n",
    "        features['ExtMetaScriptLinkRT'] = 1 if features['PctExtResourceUrls'] > 0.5 else -1 if features['PctExtResourceUrls'] < 0.1 else 0\n",
    "        features['PctExtNullSelfRedirectHyperlinksRT'] = 1 if features['PctNullSelfRedirectHyperlinks'] > 0.5 else -1 if features['PctNullSelfRedirectHyperlinks'] < 0.1 else 0\n",
    "\n",
    "    except Exception as e:\n",
    "        print(f\"Erreur lors de l'extraction des caractéristiques pour {url}: {e}\")\n",
    "        print(f\"Traceback: {traceback.format_exc()}\")\n",
    "        # Remplir avec des valeurs par défaut\n",
    "        feature_names = [\n",
    "            'NumDots', 'SubdomainLevel', 'PathLevel', 'UrlLength', 'NumDash',\n",
    "            'NumDashInHostname', 'AtSymbol', 'TildeSymbol', 'NumUnderscore',\n",
    "            'NumPercent', 'NumQueryComponents', 'NumAmpersand', 'NumHash',\n",
    "            'NumNumericChars', 'NoHttps', 'RandomString', 'IpAddress',\n",
    "            'DomainInSubdomains', 'DomainInPaths', 'HttpsInHostname',\n",
    "            'HostnameLength', 'PathLength', 'QueryLength', 'DoubleSlashInPath',\n",
    "            'NumSensitiveWords', 'EmbeddedBrandName', 'PctExtHyperlinks',\n",
    "            'PctExtResourceUrls', 'ExtFavicon', 'InsecureForms',\n",
    "            'RelativeFormAction', 'ExtFormAction', 'AbnormalFormAction',\n",
    "            'PctNullSelfRedirectHyperlinks', 'FrequentDomainNameMismatch',\n",
    "            'FakeLinkInStatusBar', 'RightClickDisabled', 'PopUpWindow',\n",
    "            'SubmitInfoToEmail', 'IframeOrFrame', 'MissingTitle',\n",
    "            'ImagesOnlyInForm', 'SubdomainLevelRT', 'UrlLengthRT',\n",
    "            'PctExtResourceUrlsRT', 'AbnormalExtFormActionR',\n",
    "            'ExtMetaScriptLinkRT', 'PctExtNullSelfRedirectHyperlinksRT'\n",
    "        ]\n",
    "        for key in feature_names:\n",
    "            features[key] = features.get(key, 0)\n",
    "\n",
    "    return features"
   ]
  },
  {
   "cell_type": "code",
   "execution_count": 27,
   "metadata": {
    "id": "-wAwvYGyAB5K"
   },
   "outputs": [],
   "source": [
    "# Fonction predict_phishing\n",
    "def predict_phishing(url, model, scaler):\n",
    "    features = extract_features(url)\n",
    "    feature_names = [\n",
    "        'NumDots', 'SubdomainLevel', 'PathLevel', 'UrlLength', 'NumDash',\n",
    "        'NumDashInHostname', 'AtSymbol', 'TildeSymbol', 'NumUnderscore',\n",
    "        'NumPercent', 'NumQueryComponents', 'NumAmpersand', 'NumHash',\n",
    "        'NumNumericChars', 'NoHttps', 'RandomString', 'IpAddress',\n",
    "        'DomainInSubdomains', 'DomainInPaths', 'HttpsInHostname',\n",
    "        'HostnameLength', 'PathLength', 'QueryLength', 'DoubleSlashInPath',\n",
    "        'NumSensitiveWords', 'EmbeddedBrandName', 'PctExtHyperlinks',\n",
    "        'PctExtResourceUrls', 'ExtFavicon', 'InsecureForms',\n",
    "        'RelativeFormAction', 'ExtFormAction', 'AbnormalFormAction',\n",
    "        'PctNullSelfRedirectHyperlinks', 'FrequentDomainNameMismatch',\n",
    "        'FakeLinkInStatusBar', 'RightClickDisabled', 'PopUpWindow',\n",
    "        'SubmitInfoToEmail', 'IframeOrFrame', 'MissingTitle',\n",
    "        'ImagesOnlyInForm', 'SubdomainLevelRT', 'UrlLengthRT',\n",
    "        'PctExtResourceUrlsRT', 'AbnormalExtFormActionR',\n",
    "        'ExtMetaScriptLinkRT', 'PctExtNullSelfRedirectHyperlinksRT'\n",
    "    ]\n",
    "    df = pd.DataFrame([features], columns=feature_names)\n",
    "    df_scaled = scaler.transform(df)\n",
    "    pred = model.predict(df_scaled)\n",
    "    return url, 'Phishing' if pred == 1 else 'Légitime'"
   ]
  },
  {
   "cell_type": "code",
   "execution_count": 28,
   "metadata": {
    "colab": {
     "base_uri": "https://localhost:8080/"
    },
    "executionInfo": {
     "elapsed": 1958,
     "status": "ok",
     "timestamp": 1748593239056,
     "user": {
      "displayName": "Ismaël Thibaut",
      "userId": "05284986738539543376"
     },
     "user_tz": -60
    },
    "id": "E_yIojAUDjX8",
    "outputId": "ea82f3de-c91a-4ad1-bd5b-3d8f0996c9af"
   },
   "outputs": [
    {
     "name": "stdout",
     "output_type": "stream",
     "text": [
      "Modèle et scaler chargés avec succès !\n"
     ]
    }
   ],
   "source": [
    "\n",
    "\n",
    "# Charger le modèle et le scaler\n",
    "model = joblib.load('C:\\\\Users\\\\Thibaut\\\\Documents\\\\MLProject\\\\url_pishing_classification\\\\xgboost_model.pkl')\n",
    "scaler = joblib.load('C:\\\\Users\\\\Thibaut\\\\Documents\\\\MLProject\\\\url_pishing_classification\\\\minmax_scaler.pkl')\n",
    "print(\"Modèle et scaler chargés avec succès !\")"
   ]
  },
  {
   "cell_type": "code",
   "execution_count": 32,
   "metadata": {
    "colab": {
     "base_uri": "https://localhost:8080/"
    },
    "collapsed": true,
    "executionInfo": {
     "elapsed": 1572,
     "status": "ok",
     "timestamp": 1748593243358,
     "user": {
      "displayName": "Ismaël Thibaut",
      "userId": "05284986738539543376"
     },
     "user_tz": -60
    },
    "id": "3EM7cF803QD2",
    "outputId": "aa9f8cf9-f2fe-4792-91c7-0c28130bffd8"
   },
   "outputs": [
    {
     "name": "stdout",
     "output_type": "stream",
     "text": [
      "Erreur Selenium pour https://grok.com/chat/78c0c4e7-f0dd-4f46-ab6b-3ff63dc4c2cc: Message: \n",
      "Stacktrace:\n",
      "\tGetHandleVerifier [0x0xd03763+63299]\n",
      "\tGetHandleVerifier [0x0xd037a4+63364]\n",
      "\t(No symbol) [0x0xb31113]\n",
      "\t(No symbol) [0x0xb7987e]\n",
      "\t(No symbol) [0x0xb79c1b]\n",
      "\t(No symbol) [0x0xbc2212]\n",
      "\t(No symbol) [0x0xb9e5c4]\n",
      "\t(No symbol) [0x0xbbfa4a]\n",
      "\t(No symbol) [0x0xb9e376]\n",
      "\t(No symbol) [0x0xb6d6e0]\n",
      "\t(No symbol) [0x0xb6e544]\n",
      "\tGetHandleVerifier [0x0xf5e033+2531347]\n",
      "\tGetHandleVerifier [0x0xf59332+2511634]\n",
      "\tGetHandleVerifier [0x0xd29eda+220858]\n",
      "\tGetHandleVerifier [0x0xd1a528+156936]\n",
      "\tGetHandleVerifier [0x0xd20c5d+183357]\n",
      "\tGetHandleVerifier [0x0xd0b6c8+95912]\n",
      "\tGetHandleVerifier [0x0xd0b870+96336]\n",
      "\tGetHandleVerifier [0x0xcf664a+9770]\n",
      "\tBaseThreadInitThunk [0x0x76a57ba9+25]\n",
      "\tRtlInitializeExceptionChain [0x0x77cdc0cb+107]\n",
      "\tRtlClearBits [0x0x77cdc04f+191]\n",
      "\n",
      "Erreur Selenium pour https://grok.com/chat/78c0c4e7-f0dd-4f46-ab6b-3ff63dc4c2cc: Message: \n",
      "Stacktrace:\n",
      "\tGetHandleVerifier [0x0xd03763+63299]\n",
      "\tGetHandleVerifier [0x0xd037a4+63364]\n",
      "\t(No symbol) [0x0xb31113]\n",
      "\t(No symbol) [0x0xb7987e]\n",
      "\t(No symbol) [0x0xb79c1b]\n",
      "\t(No symbol) [0x0xbc2212]\n",
      "\t(No symbol) [0x0xb9e5c4]\n",
      "\t(No symbol) [0x0xbbfa4a]\n",
      "\t(No symbol) [0x0xb9e376]\n",
      "\t(No symbol) [0x0xb6d6e0]\n",
      "\t(No symbol) [0x0xb6e544]\n",
      "\tGetHandleVerifier [0x0xf5e033+2531347]\n",
      "\tGetHandleVerifier [0x0xf59332+2511634]\n",
      "\tGetHandleVerifier [0x0xd29eda+220858]\n",
      "\tGetHandleVerifier [0x0xd1a528+156936]\n",
      "\tGetHandleVerifier [0x0xd20c5d+183357]\n",
      "\tGetHandleVerifier [0x0xd0b6c8+95912]\n",
      "\tGetHandleVerifier [0x0xd0b870+96336]\n",
      "\tGetHandleVerifier [0x0xcf664a+9770]\n",
      "\tBaseThreadInitThunk [0x0x76a57ba9+25]\n",
      "\tRtlInitializeExceptionChain [0x0x77cdc0cb+107]\n",
      "\tRtlClearBits [0x0x77cdc04f+191]\n",
      "\n",
      "https://grok.com/chat/78c0c4e7-f0dd-4f46-ab6b-3ff63dc4c2cc: ('https://grok.com/chat/78c0c4e7-f0dd-4f46-ab6b-3ff63dc4c2cc', 'Légitime'), Caractéristiques: {'NumDots': 1, 'SubdomainLevel': 0, 'PathLevel': 2, 'UrlLength': 58, 'NumDash': 4, 'NumDashInHostname': 0, 'AtSymbol': 0, 'TildeSymbol': 0, 'NumUnderscore': 0, 'NumPercent': 0, 'NumQueryComponents': 0, 'NumAmpersand': 0, 'NumHash': 0, 'NumNumericChars': 15, 'NoHttps': 0, 'RandomString': 0, 'IpAddress': 0, 'DomainInSubdomains': 0, 'DomainInPaths': 0, 'HttpsInHostname': 0, 'HostnameLength': 8, 'PathLength': 42, 'QueryLength': 0, 'DoubleSlashInPath': 0, 'NumSensitiveWords': 0, 'EmbeddedBrandName': 0, 'PctExtHyperlinks': 0, 'PctExtResourceUrls': 0, 'ExtFavicon': 0, 'InsecureForms': 0, 'RelativeFormAction': 0, 'ExtFormAction': 0, 'AbnormalFormAction': 0, 'PctNullSelfRedirectHyperlinks': 0, 'FrequentDomainNameMismatch': 0, 'FakeLinkInStatusBar': 0, 'RightClickDisabled': 0, 'PopUpWindow': 0, 'SubmitInfoToEmail': 0, 'IframeOrFrame': 0, 'MissingTitle': 0, 'ImagesOnlyInForm': 0, 'SubdomainLevelRT': -1, 'UrlLengthRT': 0, 'PctExtResourceUrlsRT': -1, 'AbnormalExtFormActionR': 0, 'ExtMetaScriptLinkRT': -1, 'PctExtNullSelfRedirectHyperlinksRT': -1}\n"
     ]
    }
   ],
   "source": [
    "# Tester\n",
    "url = \"https://grok.com/chat/78c0c4e7-f0dd-4f46-ab6b-3ff63dc4c2cc\"\n",
    "\n",
    "predictions = predict_phishing(url, model, scaler)\n",
    "features = extract_features(url)\n",
    "print(f\"{url}: {predictions}, Caractéristiques: {features}\")"
   ]
  },
  {
   "cell_type": "code",
   "execution_count": 30,
   "metadata": {
    "colab": {
     "base_uri": "https://localhost:8080/"
    },
    "executionInfo": {
     "elapsed": 36,
     "status": "ok",
     "timestamp": 1748593249203,
     "user": {
      "displayName": "Ismaël Thibaut",
      "userId": "05284986738539543376"
     },
     "user_tz": -60
    },
    "id": "Zs0Xn0dc3V0i",
    "outputId": "4a8ba644-cfb9-4f8c-94c8-fe2f4082245e"
   },
   "outputs": [
    {
     "data": {
      "text/plain": [
       "('https://grok.com/chat/78c0c4e7-f0dd-4f46-ab6b-3ff63dc4c2cc', 'Légitime')"
      ]
     },
     "execution_count": 30,
     "metadata": {},
     "output_type": "execute_result"
    }
   ],
   "source": [
    "predictions"
   ]
  },
  {
   "cell_type": "code",
   "execution_count": 31,
   "metadata": {
    "colab": {
     "base_uri": "https://localhost:8080/"
    },
    "executionInfo": {
     "elapsed": 55,
     "status": "ok",
     "timestamp": 1748593252480,
     "user": {
      "displayName": "Ismaël Thibaut",
      "userId": "05284986738539543376"
     },
     "user_tz": -60
    },
    "id": "qFbxIY7wFbIS",
    "outputId": "c1ef2592-01df-4d86-9f6c-39d3a9898b89"
   },
   "outputs": [
    {
     "name": "stdout",
     "output_type": "stream",
     "text": [
      "Prédictions sauvegardées avec succès !\n"
     ]
    }
   ],
   "source": [
    "# Sauvegarder les prédictions\n",
    "results = pd.DataFrame([predictions], columns=['URL', 'Prédiction'])\n",
    "results.to_csv('C:\\\\Users\\\\Thibaut\\\\Documents\\\\MLProject\\\\url_pishing_classification\\\\predictions.csv', index=False)\n",
    "print(\"Prédictions sauvegardées avec succès !\")"
   ]
  }
 ],
 "metadata": {
  "colab": {
   "authorship_tag": "ABX9TyN/uB8RavpFVqGtlEMjlw+W",
   "provenance": []
  },
  "kernelspec": {
   "display_name": "Python 3",
   "name": "python3"
  },
  "language_info": {
   "codemirror_mode": {
    "name": "ipython",
    "version": 3
   },
   "file_extension": ".py",
   "mimetype": "text/x-python",
   "name": "python",
   "nbconvert_exporter": "python",
   "pygments_lexer": "ipython3",
   "version": "3.11.9"
  }
 },
 "nbformat": 4,
 "nbformat_minor": 0
}
